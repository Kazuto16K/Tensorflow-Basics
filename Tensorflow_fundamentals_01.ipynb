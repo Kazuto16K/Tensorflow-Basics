{
  "nbformat": 4,
  "nbformat_minor": 0,
  "metadata": {
    "colab": {
      "provenance": []
    },
    "kernelspec": {
      "name": "python3",
      "display_name": "Python 3"
    },
    "language_info": {
      "name": "python"
    }
  },
  "cells": [
    {
      "cell_type": "markdown",
      "source": [
        "In this notebook, we are going to cover some of most fundamental concepts of Tensors using TENSORFLOW"
      ],
      "metadata": {
        "id": "P6ZWrkH9uh8f"
      }
    },
    {
      "cell_type": "markdown",
      "source": [
        "To be covered:\n",
        "- Introduction to tensors\n",
        "- Getting information from tensors\n",
        "- Manipulating Tensors\n",
        "- Tensors and Numpy\n",
        "- Using @tf.function (speeing up regular Python functions)\n",
        "- Using GPU with Tensorflow (TPU)\n"
      ],
      "metadata": {
        "id": "o74BsBpRwpFZ"
      }
    },
    {
      "cell_type": "code",
      "execution_count": 2,
      "metadata": {
        "id": "0dgkTN0ouVcQ",
        "colab": {
          "base_uri": "https://localhost:8080/"
        },
        "outputId": "985265b7-5f00-492a-9c1d-0c1b60a1a7ed"
      },
      "outputs": [
        {
          "output_type": "stream",
          "name": "stdout",
          "text": [
            "2.17.0\n"
          ]
        }
      ],
      "source": [
        "import tensorflow as tf\n",
        "print(tf.__version__)"
      ]
    },
    {
      "cell_type": "code",
      "source": [
        "# Creating tensors with tf.constant()\n",
        "scalar = tf.constant(7)\n",
        "scalar"
      ],
      "metadata": {
        "colab": {
          "base_uri": "https://localhost:8080/"
        },
        "id": "qREaGAso3ZoO",
        "outputId": "70047199-bf1c-4cd0-c695-e7ca13c7dcee"
      },
      "execution_count": 3,
      "outputs": [
        {
          "output_type": "execute_result",
          "data": {
            "text/plain": [
              "<tf.Tensor: shape=(), dtype=int32, numpy=7>"
            ]
          },
          "metadata": {},
          "execution_count": 3
        }
      ]
    },
    {
      "cell_type": "code",
      "source": [
        "# Check the number of dimesions of tensor (ndim stands for number of dimensions)\n",
        "scalar.ndim"
      ],
      "metadata": {
        "colab": {
          "base_uri": "https://localhost:8080/"
        },
        "id": "Dumu763032f4",
        "outputId": "dd743c11-7c53-4394-fcd5-f7cbe0a35227"
      },
      "execution_count": 4,
      "outputs": [
        {
          "output_type": "execute_result",
          "data": {
            "text/plain": [
              "0"
            ]
          },
          "metadata": {},
          "execution_count": 4
        }
      ]
    },
    {
      "cell_type": "code",
      "source": [
        "# Creating a Vector\n",
        "vector = tf.constant([10,10])\n",
        "vector"
      ],
      "metadata": {
        "colab": {
          "base_uri": "https://localhost:8080/"
        },
        "id": "2tuTHWS04fsB",
        "outputId": "f60d01ee-e51e-450d-86a3-5198742a8535"
      },
      "execution_count": 5,
      "outputs": [
        {
          "output_type": "execute_result",
          "data": {
            "text/plain": [
              "<tf.Tensor: shape=(2,), dtype=int32, numpy=array([10, 10], dtype=int32)>"
            ]
          },
          "metadata": {},
          "execution_count": 5
        }
      ]
    },
    {
      "cell_type": "code",
      "source": [
        "vector.ndim"
      ],
      "metadata": {
        "colab": {
          "base_uri": "https://localhost:8080/"
        },
        "id": "o_OyRhiq4jl4",
        "outputId": "46a3fe67-501f-4f13-824d-fbd284b085e3"
      },
      "execution_count": 6,
      "outputs": [
        {
          "output_type": "execute_result",
          "data": {
            "text/plain": [
              "1"
            ]
          },
          "metadata": {},
          "execution_count": 6
        }
      ]
    },
    {
      "cell_type": "code",
      "source": [
        "# Create a matrix (has more than 1 dimesion)\n",
        "matrix = tf.constant([[10,7],\n",
        "                      [7,10]])\n",
        "matrix"
      ],
      "metadata": {
        "colab": {
          "base_uri": "https://localhost:8080/"
        },
        "id": "a9JUiV3J4nl6",
        "outputId": "ca85883a-96c1-4f2e-c05e-436207d1e52c"
      },
      "execution_count": 7,
      "outputs": [
        {
          "output_type": "execute_result",
          "data": {
            "text/plain": [
              "<tf.Tensor: shape=(2, 2), dtype=int32, numpy=\n",
              "array([[10,  7],\n",
              "       [ 7, 10]], dtype=int32)>"
            ]
          },
          "metadata": {},
          "execution_count": 7
        }
      ]
    },
    {
      "cell_type": "code",
      "source": [
        "matrix.ndim"
      ],
      "metadata": {
        "colab": {
          "base_uri": "https://localhost:8080/"
        },
        "id": "g6WeafUU4378",
        "outputId": "a0182f41-991a-4234-e3af-05e2ecfca280"
      },
      "execution_count": 8,
      "outputs": [
        {
          "output_type": "execute_result",
          "data": {
            "text/plain": [
              "2"
            ]
          },
          "metadata": {},
          "execution_count": 8
        }
      ]
    },
    {
      "cell_type": "code",
      "source": [
        "# Creating a matrix having different data type\n",
        "another_matrix = tf.constant([[10.,7.],\n",
        "                              [3.,2.],\n",
        "                              [8.,9.]], dtype=tf.float16) # specifying the datatype\n",
        "another_matrix"
      ],
      "metadata": {
        "colab": {
          "base_uri": "https://localhost:8080/"
        },
        "id": "KQYJFsqR471b",
        "outputId": "ae2af3bf-37c2-4baf-c8fe-6ca8d894239d"
      },
      "execution_count": 9,
      "outputs": [
        {
          "output_type": "execute_result",
          "data": {
            "text/plain": [
              "<tf.Tensor: shape=(3, 2), dtype=float16, numpy=\n",
              "array([[10.,  7.],\n",
              "       [ 3.,  2.],\n",
              "       [ 8.,  9.]], dtype=float16)>"
            ]
          },
          "metadata": {},
          "execution_count": 9
        }
      ]
    },
    {
      "cell_type": "code",
      "source": [
        "another_matrix.ndim"
      ],
      "metadata": {
        "colab": {
          "base_uri": "https://localhost:8080/"
        },
        "id": "TXbkefR55eNn",
        "outputId": "ae025982-2d03-49aa-a726-204f7f54ffb6"
      },
      "execution_count": 10,
      "outputs": [
        {
          "output_type": "execute_result",
          "data": {
            "text/plain": [
              "2"
            ]
          },
          "metadata": {},
          "execution_count": 10
        }
      ]
    },
    {
      "cell_type": "code",
      "source": [
        "# Creating a tensor\n",
        "tensor = tf.constant([[[1,2,3],\n",
        "                       [4,5,6]],\n",
        "                      [[7,8,9],\n",
        "                       [10,11,12]],\n",
        "                      [[13,14,15],\n",
        "                       [16,17,18]]])\n",
        "tensor"
      ],
      "metadata": {
        "colab": {
          "base_uri": "https://localhost:8080/"
        },
        "id": "cRxU0MNS5up9",
        "outputId": "6ee7aeaa-595d-4ada-efaf-80d19e075a98"
      },
      "execution_count": 11,
      "outputs": [
        {
          "output_type": "execute_result",
          "data": {
            "text/plain": [
              "<tf.Tensor: shape=(3, 2, 3), dtype=int32, numpy=\n",
              "array([[[ 1,  2,  3],\n",
              "        [ 4,  5,  6]],\n",
              "\n",
              "       [[ 7,  8,  9],\n",
              "        [10, 11, 12]],\n",
              "\n",
              "       [[13, 14, 15],\n",
              "        [16, 17, 18]]], dtype=int32)>"
            ]
          },
          "metadata": {},
          "execution_count": 11
        }
      ]
    },
    {
      "cell_type": "code",
      "source": [
        "tensor.ndim"
      ],
      "metadata": {
        "colab": {
          "base_uri": "https://localhost:8080/"
        },
        "id": "h5v84Xap6VOF",
        "outputId": "b2191321-ea08-486a-f08a-06837947dec0"
      },
      "execution_count": 12,
      "outputs": [
        {
          "output_type": "execute_result",
          "data": {
            "text/plain": [
              "3"
            ]
          },
          "metadata": {},
          "execution_count": 12
        }
      ]
    },
    {
      "cell_type": "markdown",
      "source": [
        "What we have created so far:\n",
        "- Scalar: A single number\n",
        "- Vector: A number with direction\n",
        "- Matrix: A 2D array of numbers\n",
        "- Tensor: An n-dimensional array of numbers where n can  be (0 to any value)"
      ],
      "metadata": {
        "id": "ZxWrbsk37zct"
      }
    },
    {
      "cell_type": "markdown",
      "source": [
        "### Creating Tensors with tf.Variable"
      ],
      "metadata": {
        "id": "ic98V_aLlDhf"
      }
    },
    {
      "cell_type": "code",
      "source": [
        "changeable_tensor = tf.Variable([10,7])\n",
        "unchangeable_tensor = tf.constant([10,7])\n",
        "\n",
        "changeable_tensor, unchangeable_tensor"
      ],
      "metadata": {
        "id": "GWw3IBDC6ZFe",
        "colab": {
          "base_uri": "https://localhost:8080/"
        },
        "outputId": "c6cc118e-a5ae-4a8e-cf61-b5d88bc0e39e"
      },
      "execution_count": 13,
      "outputs": [
        {
          "output_type": "execute_result",
          "data": {
            "text/plain": [
              "(<tf.Variable 'Variable:0' shape=(2,) dtype=int32, numpy=array([10,  7], dtype=int32)>,\n",
              " <tf.Tensor: shape=(2,), dtype=int32, numpy=array([10,  7], dtype=int32)>)"
            ]
          },
          "metadata": {},
          "execution_count": 13
        }
      ]
    },
    {
      "cell_type": "code",
      "source": [
        "# Let's try changing one of the elements in our changeable tensor\n",
        "changeable_tensor[0].assign(7)\n",
        "changeable_tensor"
      ],
      "metadata": {
        "colab": {
          "base_uri": "https://localhost:8080/"
        },
        "id": "ezmJ5uvclgb4",
        "outputId": "600206d4-3ecf-499e-f323-1b5f2109550a"
      },
      "execution_count": 14,
      "outputs": [
        {
          "output_type": "execute_result",
          "data": {
            "text/plain": [
              "<tf.Variable 'Variable:0' shape=(2,) dtype=int32, numpy=array([7, 7], dtype=int32)>"
            ]
          },
          "metadata": {},
          "execution_count": 14
        }
      ]
    },
    {
      "cell_type": "code",
      "source": [
        "# Tryin Changing our Unchangeable Tensor\n",
        "unchangeable_tensor[0].assign(7)"
      ],
      "metadata": {
        "colab": {
          "base_uri": "https://localhost:8080/",
          "height": 280
        },
        "id": "2K_2ZtpKmFTc",
        "outputId": "eadd4054-54f5-42c5-89cd-7de151853924"
      },
      "execution_count": 15,
      "outputs": [
        {
          "output_type": "error",
          "ename": "AttributeError",
          "evalue": "'tensorflow.python.framework.ops.EagerTensor' object has no attribute 'assign'",
          "traceback": [
            "\u001b[0;31m---------------------------------------------------------------------------\u001b[0m",
            "\u001b[0;31mAttributeError\u001b[0m                            Traceback (most recent call last)",
            "\u001b[0;32m<ipython-input-15-226b68cfc6f9>\u001b[0m in \u001b[0;36m<cell line: 2>\u001b[0;34m()\u001b[0m\n\u001b[1;32m      1\u001b[0m \u001b[0;31m# Tryin Changing our Unchangeable Tensor\u001b[0m\u001b[0;34m\u001b[0m\u001b[0;34m\u001b[0m\u001b[0m\n\u001b[0;32m----> 2\u001b[0;31m \u001b[0munchangeable_tensor\u001b[0m\u001b[0;34m[\u001b[0m\u001b[0;36m0\u001b[0m\u001b[0;34m]\u001b[0m\u001b[0;34m.\u001b[0m\u001b[0massign\u001b[0m\u001b[0;34m(\u001b[0m\u001b[0;36m7\u001b[0m\u001b[0;34m)\u001b[0m\u001b[0;34m\u001b[0m\u001b[0;34m\u001b[0m\u001b[0m\n\u001b[0m",
            "\u001b[0;32m/usr/local/lib/python3.10/dist-packages/tensorflow/python/framework/tensor.py\u001b[0m in \u001b[0;36m__getattr__\u001b[0;34m(self, name)\u001b[0m\n\u001b[1;32m    258\u001b[0m         \u001b[0mtf\u001b[0m\u001b[0;34m.\u001b[0m\u001b[0mexperimental\u001b[0m\u001b[0;34m.\u001b[0m\u001b[0mnumpy\u001b[0m\u001b[0;34m.\u001b[0m\u001b[0mexperimental_enable_numpy_behavior\u001b[0m\u001b[0;34m(\u001b[0m\u001b[0;34m)\u001b[0m\u001b[0;34m\u001b[0m\u001b[0;34m\u001b[0m\u001b[0m\n\u001b[1;32m    259\u001b[0m       \"\"\")\n\u001b[0;32m--> 260\u001b[0;31m     \u001b[0mself\u001b[0m\u001b[0;34m.\u001b[0m\u001b[0m__getattribute__\u001b[0m\u001b[0;34m(\u001b[0m\u001b[0mname\u001b[0m\u001b[0;34m)\u001b[0m\u001b[0;34m\u001b[0m\u001b[0;34m\u001b[0m\u001b[0m\n\u001b[0m\u001b[1;32m    261\u001b[0m \u001b[0;34m\u001b[0m\u001b[0m\n\u001b[1;32m    262\u001b[0m   \u001b[0;34m@\u001b[0m\u001b[0mproperty\u001b[0m\u001b[0;34m\u001b[0m\u001b[0;34m\u001b[0m\u001b[0m\n",
            "\u001b[0;31mAttributeError\u001b[0m: 'tensorflow.python.framework.ops.EagerTensor' object has no attribute 'assign'"
          ]
        }
      ]
    },
    {
      "cell_type": "markdown",
      "source": [
        "### Creating Random Tensors\n",
        "Random tensors are tensors of some arbitrary size which contain random numbers"
      ],
      "metadata": {
        "id": "LC7_Y3y2mnkP"
      }
    },
    {
      "cell_type": "code",
      "source": [
        "# Create two random (but same) tensors\n",
        "random_1 = tf.random.Generator.from_seed(42)  #set seed for reproducibility , seed is a kind of relation to the random numbers generated\n",
        "random_1 = random_1.normal(shape=(3,2))\n",
        "\n",
        "random_1"
      ],
      "metadata": {
        "colab": {
          "base_uri": "https://localhost:8080/"
        },
        "id": "ztdaQ4fymPXz",
        "outputId": "1e2250a0-ec8e-4cc2-cbad-8dffedd03dcf"
      },
      "execution_count": 16,
      "outputs": [
        {
          "output_type": "execute_result",
          "data": {
            "text/plain": [
              "<tf.Tensor: shape=(3, 2), dtype=float32, numpy=\n",
              "array([[-0.7565803 , -0.06854702],\n",
              "       [ 0.07595026, -1.2573844 ],\n",
              "       [-0.23193763, -1.8107855 ]], dtype=float32)>"
            ]
          },
          "metadata": {},
          "execution_count": 16
        }
      ]
    },
    {
      "cell_type": "code",
      "source": [
        "random_2 = tf.random.Generator.from_seed(42)\n",
        "random_2 = random_2.normal(shape=(3,2))\n",
        "\n",
        "random_2"
      ],
      "metadata": {
        "colab": {
          "base_uri": "https://localhost:8080/"
        },
        "id": "v9VSgVbGnjND",
        "outputId": "7219a95c-de92-4dcc-ae94-284ca60dba24"
      },
      "execution_count": 17,
      "outputs": [
        {
          "output_type": "execute_result",
          "data": {
            "text/plain": [
              "<tf.Tensor: shape=(3, 2), dtype=float32, numpy=\n",
              "array([[-0.7565803 , -0.06854702],\n",
              "       [ 0.07595026, -1.2573844 ],\n",
              "       [-0.23193763, -1.8107855 ]], dtype=float32)>"
            ]
          },
          "metadata": {},
          "execution_count": 17
        }
      ]
    },
    {
      "cell_type": "markdown",
      "source": [
        "### Shuffling Order of Tensors\n",
        "\n",
        "Why?\n",
        "Suppose I want to classify Sphagetti and Ramen where first 5000 are Ramen and last 5000 are Sphagetti. Our Model might adjust itself thinking it want to train how only Ramen looks like instead of classifying between them. So tensors are randomized for better learning of model"
      ],
      "metadata": {
        "id": "Lcs3E7SgopTe"
      }
    },
    {
      "cell_type": "code",
      "source": [
        "# Shuffling such that inherent order does affect learning\n",
        "\n",
        "not_shuffled = tf.constant([[10,7],\n",
        "                            [3,4],\n",
        "                            [2,5]])\n",
        "not_shuffled.ndim"
      ],
      "metadata": {
        "colab": {
          "base_uri": "https://localhost:8080/"
        },
        "id": "SPuPoDN2ommO",
        "outputId": "373f3bb1-20be-454a-a792-ec92aa78be3b"
      },
      "execution_count": 18,
      "outputs": [
        {
          "output_type": "execute_result",
          "data": {
            "text/plain": [
              "2"
            ]
          },
          "metadata": {},
          "execution_count": 18
        }
      ]
    },
    {
      "cell_type": "code",
      "source": [
        "# Shuffle our non-shuffled Tensor\n",
        "tf.random.shuffle(not_shuffled)"
      ],
      "metadata": {
        "colab": {
          "base_uri": "https://localhost:8080/"
        },
        "id": "6df8gbowpS70",
        "outputId": "7d1bd918-0a9e-4f63-d73d-27b1efafcaa9"
      },
      "execution_count": 19,
      "outputs": [
        {
          "output_type": "execute_result",
          "data": {
            "text/plain": [
              "<tf.Tensor: shape=(3, 2), dtype=int32, numpy=\n",
              "array([[10,  7],\n",
              "       [ 3,  4],\n",
              "       [ 2,  5]], dtype=int32)>"
            ]
          },
          "metadata": {},
          "execution_count": 19
        }
      ]
    },
    {
      "cell_type": "code",
      "source": [
        "shuffled = tf.random.shuffle(not_shuffled, seed=42)\n",
        "shuffled"
      ],
      "metadata": {
        "colab": {
          "base_uri": "https://localhost:8080/"
        },
        "id": "G0J5K-cVptY1",
        "outputId": "ddff08a0-ccf0-42cf-e519-f930943f2fad"
      },
      "execution_count": 20,
      "outputs": [
        {
          "output_type": "execute_result",
          "data": {
            "text/plain": [
              "<tf.Tensor: shape=(3, 2), dtype=int32, numpy=\n",
              "array([[ 2,  5],\n",
              "       [ 3,  4],\n",
              "       [10,  7]], dtype=int32)>"
            ]
          },
          "metadata": {},
          "execution_count": 20
        }
      ]
    },
    {
      "cell_type": "markdown",
      "source": [
        "### Creating Tensors with Numpy Arrays"
      ],
      "metadata": {
        "id": "yb-z_vadsb2t"
      }
    },
    {
      "cell_type": "code",
      "source": [
        "# Creating Tensors of all ones\n",
        "tf.ones([5,7])"
      ],
      "metadata": {
        "colab": {
          "base_uri": "https://localhost:8080/"
        },
        "id": "wPJrp5JEqTDt",
        "outputId": "2bbf9e27-1abd-4f90-8e4f-4fffbdece718"
      },
      "execution_count": 21,
      "outputs": [
        {
          "output_type": "execute_result",
          "data": {
            "text/plain": [
              "<tf.Tensor: shape=(5, 7), dtype=float32, numpy=\n",
              "array([[1., 1., 1., 1., 1., 1., 1.],\n",
              "       [1., 1., 1., 1., 1., 1., 1.],\n",
              "       [1., 1., 1., 1., 1., 1., 1.],\n",
              "       [1., 1., 1., 1., 1., 1., 1.],\n",
              "       [1., 1., 1., 1., 1., 1., 1.]], dtype=float32)>"
            ]
          },
          "metadata": {},
          "execution_count": 21
        }
      ]
    },
    {
      "cell_type": "code",
      "source": [
        "# Creating tensors of all zeros\n",
        "tf.zeros(shape=(3,4))"
      ],
      "metadata": {
        "colab": {
          "base_uri": "https://localhost:8080/"
        },
        "id": "5puTokiSslKU",
        "outputId": "7f22ab1f-5466-43e3-ab73-4bf2c4aad4be"
      },
      "execution_count": 22,
      "outputs": [
        {
          "output_type": "execute_result",
          "data": {
            "text/plain": [
              "<tf.Tensor: shape=(3, 4), dtype=float32, numpy=\n",
              "array([[0., 0., 0., 0.],\n",
              "       [0., 0., 0., 0.],\n",
              "       [0., 0., 0., 0.]], dtype=float32)>"
            ]
          },
          "metadata": {},
          "execution_count": 22
        }
      ]
    },
    {
      "cell_type": "markdown",
      "source": [
        "### Turning Numpy Arrays into Tensors\n",
        "\n",
        "The main difference between NumPy arrays and TensorFlow tensors is that tensors can be run on a GPT (much faster for numerical computing)"
      ],
      "metadata": {
        "id": "xwJwOz-as0sf"
      }
    },
    {
      "cell_type": "code",
      "source": [
        "# We can also turn NumPy arrays into tensorflow tensors\n",
        "import numpy as np\n",
        "numpy_A = np.arange(1,25, dtype=np.int32)  #creating numpy array between 1 and 25\n",
        "\n",
        "# X = tf.constant(some_matrix)  # capital for matrix or tensor\n",
        "# y = tf.constant(vector) # non-captial for vector\n",
        "numpy_A"
      ],
      "metadata": {
        "colab": {
          "base_uri": "https://localhost:8080/"
        },
        "id": "LksWuuHksor6",
        "outputId": "ee4646cc-5776-440c-bd17-ed270af0fd05"
      },
      "execution_count": 23,
      "outputs": [
        {
          "output_type": "execute_result",
          "data": {
            "text/plain": [
              "array([ 1,  2,  3,  4,  5,  6,  7,  8,  9, 10, 11, 12, 13, 14, 15, 16, 17,\n",
              "       18, 19, 20, 21, 22, 23, 24], dtype=int32)"
            ]
          },
          "metadata": {},
          "execution_count": 23
        }
      ]
    },
    {
      "cell_type": "code",
      "source": [
        "A = tf.constant(numpy_A)\n",
        "A"
      ],
      "metadata": {
        "colab": {
          "base_uri": "https://localhost:8080/"
        },
        "id": "2DysxUdYsyOI",
        "outputId": "e128f5d2-dae5-4e2b-9b17-f78dc70686c1"
      },
      "execution_count": 24,
      "outputs": [
        {
          "output_type": "execute_result",
          "data": {
            "text/plain": [
              "<tf.Tensor: shape=(24,), dtype=int32, numpy=\n",
              "array([ 1,  2,  3,  4,  5,  6,  7,  8,  9, 10, 11, 12, 13, 14, 15, 16, 17,\n",
              "       18, 19, 20, 21, 22, 23, 24], dtype=int32)>"
            ]
          },
          "metadata": {},
          "execution_count": 24
        }
      ]
    },
    {
      "cell_type": "code",
      "source": [
        "B = tf.constant(numpy_A, shape=(2,3,4))\n",
        "B"
      ],
      "metadata": {
        "colab": {
          "base_uri": "https://localhost:8080/"
        },
        "id": "Zp-PV-7qtuBe",
        "outputId": "002d5d66-2f44-451b-8e7a-60a56e5046e4"
      },
      "execution_count": 25,
      "outputs": [
        {
          "output_type": "execute_result",
          "data": {
            "text/plain": [
              "<tf.Tensor: shape=(2, 3, 4), dtype=int32, numpy=\n",
              "array([[[ 1,  2,  3,  4],\n",
              "        [ 5,  6,  7,  8],\n",
              "        [ 9, 10, 11, 12]],\n",
              "\n",
              "       [[13, 14, 15, 16],\n",
              "        [17, 18, 19, 20],\n",
              "        [21, 22, 23, 24]]], dtype=int32)>"
            ]
          },
          "metadata": {},
          "execution_count": 25
        }
      ]
    },
    {
      "cell_type": "code",
      "source": [
        "2 * 3 * 4  # product is 24, which must be equal to total number of elements"
      ],
      "metadata": {
        "colab": {
          "base_uri": "https://localhost:8080/"
        },
        "id": "uE89tNNqt7jF",
        "outputId": "3878801d-63f9-4828-a3b8-9b077cd11dde"
      },
      "execution_count": 26,
      "outputs": [
        {
          "output_type": "execute_result",
          "data": {
            "text/plain": [
              "24"
            ]
          },
          "metadata": {},
          "execution_count": 26
        }
      ]
    },
    {
      "cell_type": "markdown",
      "source": [
        "### Getting information from tensors\n",
        "When dealing with tensors we want to be aware of the following attributes\n",
        "* Shape - Type of Matrix/tensor\n",
        "* Rank\n",
        "* Axis or dimension - Number of dimensions\n",
        "* Size - Total number of items"
      ],
      "metadata": {
        "id": "XVSx4tBnvZwo"
      }
    },
    {
      "cell_type": "code",
      "source": [
        "# Creating a rank 4 tensor (4 dimensions)\n",
        "rank_4_tensor = tf.zeros(shape=[2,3,4,5])\n",
        "rank_4_tensor"
      ],
      "metadata": {
        "colab": {
          "base_uri": "https://localhost:8080/"
        },
        "id": "yYGuvhdDuKUo",
        "outputId": "8b8d5261-95e9-4150-8c2f-526dc072be15"
      },
      "execution_count": 27,
      "outputs": [
        {
          "output_type": "execute_result",
          "data": {
            "text/plain": [
              "<tf.Tensor: shape=(2, 3, 4, 5), dtype=float32, numpy=\n",
              "array([[[[0., 0., 0., 0., 0.],\n",
              "         [0., 0., 0., 0., 0.],\n",
              "         [0., 0., 0., 0., 0.],\n",
              "         [0., 0., 0., 0., 0.]],\n",
              "\n",
              "        [[0., 0., 0., 0., 0.],\n",
              "         [0., 0., 0., 0., 0.],\n",
              "         [0., 0., 0., 0., 0.],\n",
              "         [0., 0., 0., 0., 0.]],\n",
              "\n",
              "        [[0., 0., 0., 0., 0.],\n",
              "         [0., 0., 0., 0., 0.],\n",
              "         [0., 0., 0., 0., 0.],\n",
              "         [0., 0., 0., 0., 0.]]],\n",
              "\n",
              "\n",
              "       [[[0., 0., 0., 0., 0.],\n",
              "         [0., 0., 0., 0., 0.],\n",
              "         [0., 0., 0., 0., 0.],\n",
              "         [0., 0., 0., 0., 0.]],\n",
              "\n",
              "        [[0., 0., 0., 0., 0.],\n",
              "         [0., 0., 0., 0., 0.],\n",
              "         [0., 0., 0., 0., 0.],\n",
              "         [0., 0., 0., 0., 0.]],\n",
              "\n",
              "        [[0., 0., 0., 0., 0.],\n",
              "         [0., 0., 0., 0., 0.],\n",
              "         [0., 0., 0., 0., 0.],\n",
              "         [0., 0., 0., 0., 0.]]]], dtype=float32)>"
            ]
          },
          "metadata": {},
          "execution_count": 27
        }
      ]
    },
    {
      "cell_type": "code",
      "source": [
        "rank_4_tensor[0]   #getting set of first 3 set of tensors"
      ],
      "metadata": {
        "colab": {
          "base_uri": "https://localhost:8080/"
        },
        "id": "pmc1j6bewJEe",
        "outputId": "d3ceefce-46f4-4e1a-ccd9-4428d95e6613"
      },
      "execution_count": 28,
      "outputs": [
        {
          "output_type": "execute_result",
          "data": {
            "text/plain": [
              "<tf.Tensor: shape=(3, 4, 5), dtype=float32, numpy=\n",
              "array([[[0., 0., 0., 0., 0.],\n",
              "        [0., 0., 0., 0., 0.],\n",
              "        [0., 0., 0., 0., 0.],\n",
              "        [0., 0., 0., 0., 0.]],\n",
              "\n",
              "       [[0., 0., 0., 0., 0.],\n",
              "        [0., 0., 0., 0., 0.],\n",
              "        [0., 0., 0., 0., 0.],\n",
              "        [0., 0., 0., 0., 0.]],\n",
              "\n",
              "       [[0., 0., 0., 0., 0.],\n",
              "        [0., 0., 0., 0., 0.],\n",
              "        [0., 0., 0., 0., 0.],\n",
              "        [0., 0., 0., 0., 0.]]], dtype=float32)>"
            ]
          },
          "metadata": {},
          "execution_count": 28
        }
      ]
    },
    {
      "cell_type": "code",
      "source": [
        "rank_4_tensor[0][1]"
      ],
      "metadata": {
        "colab": {
          "base_uri": "https://localhost:8080/"
        },
        "id": "XGyHWQtIwQCo",
        "outputId": "bbbe4e30-c2af-46e2-c67f-1a096b873934"
      },
      "execution_count": 29,
      "outputs": [
        {
          "output_type": "execute_result",
          "data": {
            "text/plain": [
              "<tf.Tensor: shape=(4, 5), dtype=float32, numpy=\n",
              "array([[0., 0., 0., 0., 0.],\n",
              "       [0., 0., 0., 0., 0.],\n",
              "       [0., 0., 0., 0., 0.],\n",
              "       [0., 0., 0., 0., 0.]], dtype=float32)>"
            ]
          },
          "metadata": {},
          "execution_count": 29
        }
      ]
    },
    {
      "cell_type": "code",
      "source": [
        "rank_4_tensor.shape, rank_4_tensor.ndim, tf.size(rank_4_tensor)"
      ],
      "metadata": {
        "colab": {
          "base_uri": "https://localhost:8080/"
        },
        "id": "E5ohUiTrwZOY",
        "outputId": "644862ce-fe72-4dfc-cae5-6e18e58cd9e7"
      },
      "execution_count": 30,
      "outputs": [
        {
          "output_type": "execute_result",
          "data": {
            "text/plain": [
              "(TensorShape([2, 3, 4, 5]), 4, <tf.Tensor: shape=(), dtype=int32, numpy=120>)"
            ]
          },
          "metadata": {},
          "execution_count": 30
        }
      ]
    },
    {
      "cell_type": "code",
      "source": [
        "# Get various attributes of our Tensor\n",
        "print(\"Datatype of every element: \", rank_4_tensor.dtype)\n",
        "print(\"Number of Dimensions (rank): \", rank_4_tensor.ndim)\n",
        "print(\"Shape of Tensor: \", rank_4_tensor.shape )\n",
        "print(\"Elements along the 0 axis: \", rank_4_tensor.shape[0])\n",
        "print(\"Elements along the last axis: \", rank_4_tensor.shape[-1])\n",
        "print(\"Total number of elements in our tensor: \", tf.size(rank_4_tensor))"
      ],
      "metadata": {
        "colab": {
          "base_uri": "https://localhost:8080/"
        },
        "id": "NLfM_U6wwXKW",
        "outputId": "357a47c7-0288-4c50-ac05-55eeb2a537e4"
      },
      "execution_count": 31,
      "outputs": [
        {
          "output_type": "stream",
          "name": "stdout",
          "text": [
            "Datatype of every element:  <dtype: 'float32'>\n",
            "Number of Dimensions (rank):  4\n",
            "Shape of Tensor:  (2, 3, 4, 5)\n",
            "Elements along the 0 axis:  2\n",
            "Elements along the last axis:  5\n",
            "Total number of elements in our tensor:  tf.Tensor(120, shape=(), dtype=int32)\n"
          ]
        }
      ]
    },
    {
      "cell_type": "markdown",
      "source": [
        "### Indexing Tensors\n",
        "Tensors can be indexed just like Python lists"
      ],
      "metadata": {
        "id": "-XifoQt8Cjem"
      }
    },
    {
      "cell_type": "code",
      "source": [
        "# GEt the first 2 elements of each dimension\n",
        "rank_4_tensor[:2,:2,:2,:2]"
      ],
      "metadata": {
        "colab": {
          "base_uri": "https://localhost:8080/"
        },
        "id": "iyE_sNB9xfEC",
        "outputId": "d4493e4b-73ed-4be2-9dd8-6ffc131b4891"
      },
      "execution_count": 32,
      "outputs": [
        {
          "output_type": "execute_result",
          "data": {
            "text/plain": [
              "<tf.Tensor: shape=(2, 2, 2, 2), dtype=float32, numpy=\n",
              "array([[[[0., 0.],\n",
              "         [0., 0.]],\n",
              "\n",
              "        [[0., 0.],\n",
              "         [0., 0.]]],\n",
              "\n",
              "\n",
              "       [[[0., 0.],\n",
              "         [0., 0.]],\n",
              "\n",
              "        [[0., 0.],\n",
              "         [0., 0.]]]], dtype=float32)>"
            ]
          },
          "metadata": {},
          "execution_count": 32
        }
      ]
    },
    {
      "cell_type": "code",
      "source": [
        "# Get the first element each dimension from each index except the final one\n",
        "rank_4_tensor[:1,:1,:1,:]"
      ],
      "metadata": {
        "colab": {
          "base_uri": "https://localhost:8080/"
        },
        "id": "K8tsdaCfC0ul",
        "outputId": "17804740-7722-4655-8cc1-ddb3159b0cce"
      },
      "execution_count": 33,
      "outputs": [
        {
          "output_type": "execute_result",
          "data": {
            "text/plain": [
              "<tf.Tensor: shape=(1, 1, 1, 5), dtype=float32, numpy=array([[[[0., 0., 0., 0., 0.]]]], dtype=float32)>"
            ]
          },
          "metadata": {},
          "execution_count": 33
        }
      ]
    },
    {
      "cell_type": "code",
      "source": [
        "rank_2_tensor = tf.constant([[10,7],\n",
        "                            [3,4]])\n",
        "rank_2_tensor.shape, rank_2_tensor.ndim"
      ],
      "metadata": {
        "colab": {
          "base_uri": "https://localhost:8080/"
        },
        "id": "R5ONubepDM_1",
        "outputId": "9a901775-2c74-4a39-e639-079befad47dc"
      },
      "execution_count": 34,
      "outputs": [
        {
          "output_type": "execute_result",
          "data": {
            "text/plain": [
              "(TensorShape([2, 2]), 2)"
            ]
          },
          "metadata": {},
          "execution_count": 34
        }
      ]
    },
    {
      "cell_type": "code",
      "source": [
        "# Get the last item of each row of our rank 2 tensor\n",
        "rank_2_tensor[:,-1]"
      ],
      "metadata": {
        "colab": {
          "base_uri": "https://localhost:8080/"
        },
        "id": "ypZpx2KPDzRd",
        "outputId": "232c5784-27a5-4232-9565-a89606f4cd9a"
      },
      "execution_count": 35,
      "outputs": [
        {
          "output_type": "execute_result",
          "data": {
            "text/plain": [
              "<tf.Tensor: shape=(2,), dtype=int32, numpy=array([7, 4], dtype=int32)>"
            ]
          },
          "metadata": {},
          "execution_count": 35
        }
      ]
    },
    {
      "cell_type": "code",
      "source": [
        "# Add in extra dimension to our rank 2 tensor\n",
        "rank_3_tensor = rank_2_tensor[..., tf.newaxis] # the ... means include every axis previously\n",
        "rank_3_tensor"
      ],
      "metadata": {
        "colab": {
          "base_uri": "https://localhost:8080/"
        },
        "id": "TefmT_MQD9lj",
        "outputId": "273df7e0-c947-43d6-8a2a-f6d93f5d0ce0"
      },
      "execution_count": 36,
      "outputs": [
        {
          "output_type": "execute_result",
          "data": {
            "text/plain": [
              "<tf.Tensor: shape=(2, 2, 1), dtype=int32, numpy=\n",
              "array([[[10],\n",
              "        [ 7]],\n",
              "\n",
              "       [[ 3],\n",
              "        [ 4]]], dtype=int32)>"
            ]
          },
          "metadata": {},
          "execution_count": 36
        }
      ]
    },
    {
      "cell_type": "code",
      "source": [
        "# Alternative to tf.newaxis\n",
        "tf.expand_dims(rank_2_tensor, axis=-1) # '-1' means the final axis"
      ],
      "metadata": {
        "colab": {
          "base_uri": "https://localhost:8080/"
        },
        "id": "0FVbeHZvEOto",
        "outputId": "1c9fb0b5-2da8-4a71-c321-c749fd6bc072"
      },
      "execution_count": 37,
      "outputs": [
        {
          "output_type": "execute_result",
          "data": {
            "text/plain": [
              "<tf.Tensor: shape=(2, 2, 1), dtype=int32, numpy=\n",
              "array([[[10],\n",
              "        [ 7]],\n",
              "\n",
              "       [[ 3],\n",
              "        [ 4]]], dtype=int32)>"
            ]
          },
          "metadata": {},
          "execution_count": 37
        }
      ]
    },
    {
      "cell_type": "code",
      "source": [
        "# Expand the 0-axis\n",
        "tf.expand_dims(rank_2_tensor,axis=0)"
      ],
      "metadata": {
        "colab": {
          "base_uri": "https://localhost:8080/"
        },
        "id": "mHYz7yuyFKj2",
        "outputId": "955aab64-448c-479a-ca6a-ea34194a33b4"
      },
      "execution_count": 38,
      "outputs": [
        {
          "output_type": "execute_result",
          "data": {
            "text/plain": [
              "<tf.Tensor: shape=(1, 2, 2), dtype=int32, numpy=\n",
              "array([[[10,  7],\n",
              "        [ 3,  4]]], dtype=int32)>"
            ]
          },
          "metadata": {},
          "execution_count": 38
        }
      ]
    },
    {
      "cell_type": "markdown",
      "source": [
        "### Manipulating Tensors (tensor operations)\n",
        "**Basic Operations**\n",
        "\n",
        "`+` , `-` , `*` , `/`"
      ],
      "metadata": {
        "id": "nIDcTehlFXWF"
      }
    },
    {
      "cell_type": "code",
      "source": [
        "# We can add  values to a tensor using addition operator\n",
        "tensor = tf.constant([[10,7],[3,4]])\n",
        "tensor + 10  #original tensor remains unchanged"
      ],
      "metadata": {
        "colab": {
          "base_uri": "https://localhost:8080/"
        },
        "id": "0k8o0GngFSs0",
        "outputId": "775cacdb-9bc5-4511-f818-47ec1f949c54"
      },
      "execution_count": 39,
      "outputs": [
        {
          "output_type": "execute_result",
          "data": {
            "text/plain": [
              "<tf.Tensor: shape=(2, 2), dtype=int32, numpy=\n",
              "array([[20, 17],\n",
              "       [13, 14]], dtype=int32)>"
            ]
          },
          "metadata": {},
          "execution_count": 39
        }
      ]
    },
    {
      "cell_type": "code",
      "source": [
        "# Multiplication\n",
        "tensor1 = tensor*10\n",
        "tensor1"
      ],
      "metadata": {
        "colab": {
          "base_uri": "https://localhost:8080/"
        },
        "id": "Pbcu_i-FF_qB",
        "outputId": "3777d206-5786-46ad-aced-09261df70409"
      },
      "execution_count": 40,
      "outputs": [
        {
          "output_type": "execute_result",
          "data": {
            "text/plain": [
              "<tf.Tensor: shape=(2, 2), dtype=int32, numpy=\n",
              "array([[100,  70],\n",
              "       [ 30,  40]], dtype=int32)>"
            ]
          },
          "metadata": {},
          "execution_count": 40
        }
      ]
    },
    {
      "cell_type": "code",
      "source": [
        "# Subtraction and Division is also possible"
      ],
      "metadata": {
        "id": "HR1Seur9GMWA"
      },
      "execution_count": 41,
      "outputs": []
    },
    {
      "cell_type": "code",
      "source": [
        "# We can use the tensorflow built-in function too\n",
        "tf.multiply(tensor, 10)"
      ],
      "metadata": {
        "colab": {
          "base_uri": "https://localhost:8080/"
        },
        "id": "6um7yRAqGRGt",
        "outputId": "989389da-dd79-49f1-b2a0-cb1db032c7c4"
      },
      "execution_count": 42,
      "outputs": [
        {
          "output_type": "execute_result",
          "data": {
            "text/plain": [
              "<tf.Tensor: shape=(2, 2), dtype=int32, numpy=\n",
              "array([[100,  70],\n",
              "       [ 30,  40]], dtype=int32)>"
            ]
          },
          "metadata": {},
          "execution_count": 42
        }
      ]
    },
    {
      "cell_type": "markdown",
      "source": [
        "### **Matrix Multiplication**"
      ],
      "metadata": {
        "id": "R4PEOadnG0Ht"
      }
    },
    {
      "cell_type": "code",
      "source": [
        "# Matrix multiplication in tensorflow\n",
        "tf.matmul(tensor,tensor)"
      ],
      "metadata": {
        "id": "Jz1XNTojGjnc",
        "colab": {
          "base_uri": "https://localhost:8080/"
        },
        "outputId": "ae5b6d46-0a0f-48bd-873a-839a83ddef4b"
      },
      "execution_count": 43,
      "outputs": [
        {
          "output_type": "execute_result",
          "data": {
            "text/plain": [
              "<tf.Tensor: shape=(2, 2), dtype=int32, numpy=\n",
              "array([[121,  98],\n",
              "       [ 42,  37]], dtype=int32)>"
            ]
          },
          "metadata": {},
          "execution_count": 43
        }
      ]
    },
    {
      "cell_type": "code",
      "source": [
        "print(tensor)"
      ],
      "metadata": {
        "colab": {
          "base_uri": "https://localhost:8080/"
        },
        "id": "-AjQSepvQI3j",
        "outputId": "4b915f06-e479-4a3c-d6a7-4a5d8ee408ec"
      },
      "execution_count": 44,
      "outputs": [
        {
          "output_type": "stream",
          "name": "stdout",
          "text": [
            "tf.Tensor(\n",
            "[[10  7]\n",
            " [ 3  4]], shape=(2, 2), dtype=int32)\n"
          ]
        }
      ]
    },
    {
      "cell_type": "code",
      "source": [
        "# Matrix multiplication using Python @ variable\n",
        "tensor @ tensor"
      ],
      "metadata": {
        "colab": {
          "base_uri": "https://localhost:8080/"
        },
        "id": "qb1c0u5sQj6s",
        "outputId": "2a00db68-a1b5-44c4-8b0a-f47b9cec4189"
      },
      "execution_count": 45,
      "outputs": [
        {
          "output_type": "execute_result",
          "data": {
            "text/plain": [
              "<tf.Tensor: shape=(2, 2), dtype=int32, numpy=\n",
              "array([[121,  98],\n",
              "       [ 42,  37]], dtype=int32)>"
            ]
          },
          "metadata": {},
          "execution_count": 45
        }
      ]
    },
    {
      "cell_type": "code",
      "source": [
        "# Creating a tensor (3,2) tensor\n",
        "X = tf.constant([[1,2],\n",
        "                 [3,4],\n",
        "                 [5,6]])\n",
        "Y = tf.constant([[7,8],\n",
        "                 [9,10],\n",
        "                 [11,12]])\n",
        "X,Y"
      ],
      "metadata": {
        "colab": {
          "base_uri": "https://localhost:8080/"
        },
        "id": "GWpCpYtaQvdK",
        "outputId": "8ea32e4e-f67e-46ec-c750-b9a3f3cda18e"
      },
      "execution_count": 49,
      "outputs": [
        {
          "output_type": "execute_result",
          "data": {
            "text/plain": [
              "(<tf.Tensor: shape=(3, 2), dtype=int32, numpy=\n",
              " array([[1, 2],\n",
              "        [3, 4],\n",
              "        [5, 6]], dtype=int32)>,\n",
              " <tf.Tensor: shape=(3, 2), dtype=int32, numpy=\n",
              " array([[ 7,  8],\n",
              "        [ 9, 10],\n",
              "        [11, 12]], dtype=int32)>)"
            ]
          },
          "metadata": {},
          "execution_count": 49
        }
      ]
    },
    {
      "cell_type": "code",
      "source": [
        "# We cannot multiply X and Y unless their shapess are compatible\n",
        "Y = tf.reshape(Y,shape=(2,3))\n",
        "Y"
      ],
      "metadata": {
        "colab": {
          "base_uri": "https://localhost:8080/"
        },
        "id": "RmrB8YNmT4-6",
        "outputId": "7774e8e6-09b6-4361-9bd5-e72c64f60b27"
      },
      "execution_count": 50,
      "outputs": [
        {
          "output_type": "execute_result",
          "data": {
            "text/plain": [
              "<tf.Tensor: shape=(2, 3), dtype=int32, numpy=\n",
              "array([[ 7,  8,  9],\n",
              "       [10, 11, 12]], dtype=int32)>"
            ]
          },
          "metadata": {},
          "execution_count": 50
        }
      ]
    },
    {
      "cell_type": "code",
      "source": [
        "tf.matmul(X,Y)"
      ],
      "metadata": {
        "colab": {
          "base_uri": "https://localhost:8080/"
        },
        "id": "QGH9eybnUF2o",
        "outputId": "d2dd9c7f-6852-4ea0-819e-d06fcca5df93"
      },
      "execution_count": 51,
      "outputs": [
        {
          "output_type": "execute_result",
          "data": {
            "text/plain": [
              "<tf.Tensor: shape=(3, 3), dtype=int32, numpy=\n",
              "array([[ 27,  30,  33],\n",
              "       [ 61,  68,  75],\n",
              "       [ 95, 106, 117]], dtype=int32)>"
            ]
          },
          "metadata": {},
          "execution_count": 51
        }
      ]
    },
    {
      "cell_type": "code",
      "source": [
        "X @ Y"
      ],
      "metadata": {
        "colab": {
          "base_uri": "https://localhost:8080/"
        },
        "id": "vEC02zpTUSJ2",
        "outputId": "262483bc-bd93-49e7-c008-293143f66fd0"
      },
      "execution_count": 52,
      "outputs": [
        {
          "output_type": "execute_result",
          "data": {
            "text/plain": [
              "<tf.Tensor: shape=(3, 3), dtype=int32, numpy=\n",
              "array([[ 27,  30,  33],\n",
              "       [ 61,  68,  75],\n",
              "       [ 95, 106, 117]], dtype=int32)>"
            ]
          },
          "metadata": {},
          "execution_count": 52
        }
      ]
    },
    {
      "cell_type": "code",
      "source": [
        "# Matrix multiplication is not commutative\n",
        "Y @ X"
      ],
      "metadata": {
        "colab": {
          "base_uri": "https://localhost:8080/"
        },
        "id": "DFk7TZZgUWBm",
        "outputId": "945f3509-a6e1-44d3-e38c-f88ffc30682f"
      },
      "execution_count": 53,
      "outputs": [
        {
          "output_type": "execute_result",
          "data": {
            "text/plain": [
              "<tf.Tensor: shape=(2, 2), dtype=int32, numpy=\n",
              "array([[ 76, 100],\n",
              "       [103, 136]], dtype=int32)>"
            ]
          },
          "metadata": {},
          "execution_count": 53
        }
      ]
    },
    {
      "cell_type": "code",
      "source": [
        "# Can change shape with transpose, but it is different from reshape\n",
        "X, tf.transpose(X), tf.reshape(X, shape=(2,3))"
      ],
      "metadata": {
        "colab": {
          "base_uri": "https://localhost:8080/"
        },
        "id": "kQoumDVUUgs0",
        "outputId": "c5450282-b944-4c08-9976-826f382e73e4"
      },
      "execution_count": 55,
      "outputs": [
        {
          "output_type": "execute_result",
          "data": {
            "text/plain": [
              "(<tf.Tensor: shape=(3, 2), dtype=int32, numpy=\n",
              " array([[1, 2],\n",
              "        [3, 4],\n",
              "        [5, 6]], dtype=int32)>,\n",
              " <tf.Tensor: shape=(2, 3), dtype=int32, numpy=\n",
              " array([[1, 3, 5],\n",
              "        [2, 4, 6]], dtype=int32)>,\n",
              " <tf.Tensor: shape=(2, 3), dtype=int32, numpy=\n",
              " array([[1, 2, 3],\n",
              "        [4, 5, 6]], dtype=int32)>)"
            ]
          },
          "metadata": {},
          "execution_count": 55
        }
      ]
    },
    {
      "cell_type": "code",
      "source": [
        "# Trying matrix multiplication with Transpose rather than reshape\n",
        "tf.matmul(tf.transpose(X),tf.reshape(Y, shape=(3,2)))"
      ],
      "metadata": {
        "colab": {
          "base_uri": "https://localhost:8080/"
        },
        "id": "LMSTlrTOVQ9i",
        "outputId": "5a4003e9-4ed0-4a92-f992-2234296cbaf0"
      },
      "execution_count": 58,
      "outputs": [
        {
          "output_type": "execute_result",
          "data": {
            "text/plain": [
              "<tf.Tensor: shape=(2, 2), dtype=int32, numpy=\n",
              "array([[ 89,  98],\n",
              "       [116, 128]], dtype=int32)>"
            ]
          },
          "metadata": {},
          "execution_count": 58
        }
      ]
    },
    {
      "cell_type": "markdown",
      "source": [
        "Matrix multiplication is also called Dot Product.\n",
        "We can perform Matrix multiplication using:\n",
        "- `tf.matmul()`\n",
        "- `tf.tensordot()`"
      ],
      "metadata": {
        "id": "asL7s5BgWblX"
      }
    },
    {
      "cell_type": "code",
      "source": [
        "X, Y"
      ],
      "metadata": {
        "colab": {
          "base_uri": "https://localhost:8080/"
        },
        "id": "ivF8wPK5VeWd",
        "outputId": "465d13b7-f093-462c-a84c-485fa3a29fda"
      },
      "execution_count": 59,
      "outputs": [
        {
          "output_type": "execute_result",
          "data": {
            "text/plain": [
              "(<tf.Tensor: shape=(3, 2), dtype=int32, numpy=\n",
              " array([[1, 2],\n",
              "        [3, 4],\n",
              "        [5, 6]], dtype=int32)>,\n",
              " <tf.Tensor: shape=(2, 3), dtype=int32, numpy=\n",
              " array([[ 7,  8,  9],\n",
              "        [10, 11, 12]], dtype=int32)>)"
            ]
          },
          "metadata": {},
          "execution_count": 59
        }
      ]
    },
    {
      "cell_type": "code",
      "source": [
        "tf.tensordot(X,Y, axes=1)"
      ],
      "metadata": {
        "colab": {
          "base_uri": "https://localhost:8080/"
        },
        "id": "sk16PmNgWy-m",
        "outputId": "95acb907-9079-467e-88b4-277d357ae6f2"
      },
      "execution_count": 61,
      "outputs": [
        {
          "output_type": "execute_result",
          "data": {
            "text/plain": [
              "<tf.Tensor: shape=(3, 3), dtype=int32, numpy=\n",
              "array([[ 27,  30,  33],\n",
              "       [ 61,  68,  75],\n",
              "       [ 95, 106, 117]], dtype=int32)>"
            ]
          },
          "metadata": {},
          "execution_count": 61
        }
      ]
    },
    {
      "cell_type": "code",
      "source": [
        "# Performing Tensordot using X Tranposed and Y as Original\n",
        "tf.tensordot(tf.transpose(X),tf.reshape(Y,shape=(3,2)),axes=1)"
      ],
      "metadata": {
        "colab": {
          "base_uri": "https://localhost:8080/"
        },
        "id": "UoxYRMOiW2sS",
        "outputId": "ccff66cb-0607-457d-b780-cf49fc9a47df"
      },
      "execution_count": 63,
      "outputs": [
        {
          "output_type": "execute_result",
          "data": {
            "text/plain": [
              "<tf.Tensor: shape=(2, 2), dtype=int32, numpy=\n",
              "array([[ 89,  98],\n",
              "       [116, 128]], dtype=int32)>"
            ]
          },
          "metadata": {},
          "execution_count": 63
        }
      ]
    },
    {
      "cell_type": "markdown",
      "source": [
        "Generally, when performing matrix multiplication on two tensors and one of the axes doesn't lineup , then we will usually transpose(rather then reshape) to adjust and perform matrix multiplication."
      ],
      "metadata": {
        "id": "lQrKjUCWYDs9"
      }
    },
    {
      "cell_type": "markdown",
      "source": [
        "### Changing Datatype of Tensors"
      ],
      "metadata": {
        "id": "VENNHHAZYUKu"
      }
    },
    {
      "cell_type": "code",
      "source": [
        "# Create a new tensor with default datatype (float32)\n",
        "B = tf.constant([1.7,7.4])\n",
        "B.dtype"
      ],
      "metadata": {
        "colab": {
          "base_uri": "https://localhost:8080/"
        },
        "id": "D1TLSQmtXgA5",
        "outputId": "8b3962d9-c41f-47a0-afe1-4745e23f0abe"
      },
      "execution_count": 64,
      "outputs": [
        {
          "output_type": "execute_result",
          "data": {
            "text/plain": [
              "tf.float32"
            ]
          },
          "metadata": {},
          "execution_count": 64
        }
      ]
    },
    {
      "cell_type": "code",
      "source": [
        "C = tf.constant([10,7])\n",
        "C.dtype"
      ],
      "metadata": {
        "colab": {
          "base_uri": "https://localhost:8080/"
        },
        "id": "i7qRi64CZfS0",
        "outputId": "73fc0d88-661e-4cdd-f3c3-b3143168ed00"
      },
      "execution_count": 65,
      "outputs": [
        {
          "output_type": "execute_result",
          "data": {
            "text/plain": [
              "tf.int32"
            ]
          },
          "metadata": {},
          "execution_count": 65
        }
      ]
    },
    {
      "cell_type": "code",
      "source": [
        "# Changing from float32 to float16 (reduced precision) - They take less space on memory and faster computation\n",
        "D = tf.cast(B, dtype=tf.float16)\n",
        "D"
      ],
      "metadata": {
        "colab": {
          "base_uri": "https://localhost:8080/"
        },
        "id": "6NEUkC9iZj7l",
        "outputId": "1a819a89-afd3-475f-d339-6dd7ec9c83ac"
      },
      "execution_count": 67,
      "outputs": [
        {
          "output_type": "execute_result",
          "data": {
            "text/plain": [
              "<tf.Tensor: shape=(2,), dtype=float16, numpy=array([1.7, 7.4], dtype=float16)>"
            ]
          },
          "metadata": {},
          "execution_count": 67
        }
      ]
    },
    {
      "cell_type": "code",
      "source": [
        "# Changing from int32 to float16\n",
        "E = tf.cast(C, dtype=tf.float16)\n",
        "E"
      ],
      "metadata": {
        "colab": {
          "base_uri": "https://localhost:8080/"
        },
        "id": "oamCih-Ua7JN",
        "outputId": "a5cc91c6-2299-44a7-b137-2f639d77dde2"
      },
      "execution_count": 70,
      "outputs": [
        {
          "output_type": "execute_result",
          "data": {
            "text/plain": [
              "<tf.Tensor: shape=(2,), dtype=float16, numpy=array([10.,  7.], dtype=float16)>"
            ]
          },
          "metadata": {},
          "execution_count": 70
        }
      ]
    },
    {
      "cell_type": "markdown",
      "source": [
        "### Aggregating Tensors\n",
        "Aggregating Tensors = Condensing them from multiple values down to a smaller amount of values."
      ],
      "metadata": {
        "id": "uHfXWy9FbRXN"
      }
    },
    {
      "cell_type": "code",
      "source": [
        "# Get the absolute values\n",
        "D = tf.constant([-7, -10])\n",
        "D"
      ],
      "metadata": {
        "colab": {
          "base_uri": "https://localhost:8080/"
        },
        "id": "n7QgKBm-bHJN",
        "outputId": "bd6b91ed-ac1b-44a8-9d74-3b01eb94fe85"
      },
      "execution_count": 71,
      "outputs": [
        {
          "output_type": "execute_result",
          "data": {
            "text/plain": [
              "<tf.Tensor: shape=(2,), dtype=int32, numpy=array([ -7, -10], dtype=int32)>"
            ]
          },
          "metadata": {},
          "execution_count": 71
        }
      ]
    },
    {
      "cell_type": "code",
      "source": [
        "tf.abs(D)  # Taking all neg numbers and converts them to their absolute value"
      ],
      "metadata": {
        "colab": {
          "base_uri": "https://localhost:8080/"
        },
        "id": "7dEGhzewdKy_",
        "outputId": "e1ada818-0beb-44b5-f801-208102599095"
      },
      "execution_count": 72,
      "outputs": [
        {
          "output_type": "execute_result",
          "data": {
            "text/plain": [
              "<tf.Tensor: shape=(2,), dtype=int32, numpy=array([ 7, 10], dtype=int32)>"
            ]
          },
          "metadata": {},
          "execution_count": 72
        }
      ]
    },
    {
      "cell_type": "markdown",
      "source": [
        "Let's go through the following forms of aggregation:\n",
        "* Get the minimum\n",
        "* Get the maximum\n",
        "* Get the mean of a tensor\n",
        "* Get the sum of a tensor"
      ],
      "metadata": {
        "id": "eeINmcxcdb59"
      }
    },
    {
      "cell_type": "code",
      "source": [
        "# Create a random tensor with random values between 0 and 100 of size 50\n",
        "E = tf.constant(np.random.randint(0,100,size=50))  # Gives  random 50 numbers between 0 to 100\n",
        "E"
      ],
      "metadata": {
        "colab": {
          "base_uri": "https://localhost:8080/"
        },
        "id": "mJVhPJC8dYte",
        "outputId": "20310fbe-e5b7-44bd-fcd2-ebb2a1e8c19d"
      },
      "execution_count": 73,
      "outputs": [
        {
          "output_type": "execute_result",
          "data": {
            "text/plain": [
              "<tf.Tensor: shape=(50,), dtype=int64, numpy=\n",
              "array([67, 12, 22, 88, 98, 47, 34, 28, 59, 38, 54,  1, 24, 94, 80,  6, 72,\n",
              "       50, 97, 39, 95, 89,  0, 82, 57,  7, 94, 37, 93, 59, 45, 43, 22, 66,\n",
              "       17, 19, 66, 14, 26, 55, 98, 62, 18, 16, 27, 89, 34, 20, 54, 36])>"
            ]
          },
          "metadata": {},
          "execution_count": 73
        }
      ]
    },
    {
      "cell_type": "code",
      "source": [
        "tf.size(E), E.shape, E.ndim"
      ],
      "metadata": {
        "colab": {
          "base_uri": "https://localhost:8080/"
        },
        "id": "0nw5bq1md8K_",
        "outputId": "1e0f8da5-4c19-49f6-c6d8-b680239504cf"
      },
      "execution_count": 74,
      "outputs": [
        {
          "output_type": "execute_result",
          "data": {
            "text/plain": [
              "(<tf.Tensor: shape=(), dtype=int32, numpy=50>, TensorShape([50]), 1)"
            ]
          },
          "metadata": {},
          "execution_count": 74
        }
      ]
    },
    {
      "cell_type": "code",
      "source": [
        "# Find the minimum\n",
        "tf.reduce_min(E)"
      ],
      "metadata": {
        "colab": {
          "base_uri": "https://localhost:8080/"
        },
        "id": "g7WfjywEeAXV",
        "outputId": "2efc0425-afe9-434a-c8b9-256e82648d48"
      },
      "execution_count": 75,
      "outputs": [
        {
          "output_type": "execute_result",
          "data": {
            "text/plain": [
              "<tf.Tensor: shape=(), dtype=int64, numpy=0>"
            ]
          },
          "metadata": {},
          "execution_count": 75
        }
      ]
    },
    {
      "cell_type": "code",
      "source": [
        "# Find the maximum\n",
        "tf.reduce_max(E)"
      ],
      "metadata": {
        "colab": {
          "base_uri": "https://localhost:8080/"
        },
        "id": "iDno9qyweGvm",
        "outputId": "22db3db7-e1e6-4dea-a947-ae308c9550a5"
      },
      "execution_count": 76,
      "outputs": [
        {
          "output_type": "execute_result",
          "data": {
            "text/plain": [
              "<tf.Tensor: shape=(), dtype=int64, numpy=98>"
            ]
          },
          "metadata": {},
          "execution_count": 76
        }
      ]
    },
    {
      "cell_type": "code",
      "source": [
        "# Find the mean\n",
        "tf.reduce_mean(E)"
      ],
      "metadata": {
        "colab": {
          "base_uri": "https://localhost:8080/"
        },
        "id": "UNT5R57VeJxR",
        "outputId": "e15e2ec3-3809-4fc6-8b36-64fb5673a708"
      },
      "execution_count": 77,
      "outputs": [
        {
          "output_type": "execute_result",
          "data": {
            "text/plain": [
              "<tf.Tensor: shape=(), dtype=int64, numpy=49>"
            ]
          },
          "metadata": {},
          "execution_count": 77
        }
      ]
    },
    {
      "cell_type": "code",
      "source": [
        "# Find the sum of a tensor\n",
        "tf.reduce_sum(E)"
      ],
      "metadata": {
        "colab": {
          "base_uri": "https://localhost:8080/"
        },
        "id": "NqsDNuQqeP9g",
        "outputId": "940c6ea0-b59b-4053-c9f4-3b5a3d58f4dc"
      },
      "execution_count": 78,
      "outputs": [
        {
          "output_type": "execute_result",
          "data": {
            "text/plain": [
              "<tf.Tensor: shape=(), dtype=int64, numpy=2450>"
            ]
          },
          "metadata": {},
          "execution_count": 78
        }
      ]
    },
    {
      "cell_type": "markdown",
      "source": [
        "**Standard Deviation** - A standard deviation (or σ) is a measure of how dispersed the data is in relation to the mean. Low, or small, standard deviation indicates data are clustered tightly around the mean.high, or large, standard deviation indicates data are more spread out.\n",
        "\n",
        "**Variance** - Variance is a statistical measurement of the spread between numbers in a data set. It measures how far each number in the set is from the mean (average), and thus from every other number in the set. Variance is often depicted by this symbol: σ2.\n",
        "\n",
        "\n",
        "For the calculations we use:\n",
        "- `tf.math.reduce_std()` - Standard Deviation\n",
        "- `tf.math.reduce_variance()` - Variance\n",
        "\n",
        "\n",
        "**NOTE** - Standard Dev and Variance is supports float32 datatype and not int32, so we need to typecast to float32"
      ],
      "metadata": {
        "id": "o_jIQKbxenbt"
      }
    },
    {
      "cell_type": "code",
      "source": [
        "# Standard Deviation of the numpy array\n",
        "tf.math.reduce_std(tf.cast(E,dtype=tf.float32))   # We have to change data type to float32 and int32 is not supported"
      ],
      "metadata": {
        "colab": {
          "base_uri": "https://localhost:8080/"
        },
        "id": "rJuyCZ5ceUkz",
        "outputId": "f908db32-c24e-4308-c59d-70212dcc00ae"
      },
      "execution_count": 83,
      "outputs": [
        {
          "output_type": "execute_result",
          "data": {
            "text/plain": [
              "<tf.Tensor: shape=(), dtype=float32, numpy=29.74357>"
            ]
          },
          "metadata": {},
          "execution_count": 83
        }
      ]
    },
    {
      "cell_type": "code",
      "source": [
        "# Variance of the numpy array\n",
        "tf.math.reduce_variance(tf.cast(E,dtype=tf.float32))"
      ],
      "metadata": {
        "colab": {
          "base_uri": "https://localhost:8080/"
        },
        "id": "fYO8RJnIfUBJ",
        "outputId": "ec5ef686-02bd-4a55-bc5d-762c984454fb"
      },
      "execution_count": 82,
      "outputs": [
        {
          "output_type": "execute_result",
          "data": {
            "text/plain": [
              "<tf.Tensor: shape=(), dtype=float32, numpy=884.68>"
            ]
          },
          "metadata": {},
          "execution_count": 82
        }
      ]
    },
    {
      "cell_type": "markdown",
      "source": [
        "### Find the positional maximum and minimum"
      ],
      "metadata": {
        "id": "U4Y0vLptjKZb"
      }
    },
    {
      "cell_type": "code",
      "source": [
        "# Create a new tensor for finding postional minimum and maximum\n",
        "# Creating tensor with 50 random numbers\n",
        "tf.random.set_seed(42)\n",
        "F = tf.random.uniform(shape=[50])\n",
        "F"
      ],
      "metadata": {
        "colab": {
          "base_uri": "https://localhost:8080/"
        },
        "id": "17b-nlYRhRQq",
        "outputId": "a52849de-cc67-4954-a251-29d9bf7af7ad"
      },
      "execution_count": 85,
      "outputs": [
        {
          "output_type": "execute_result",
          "data": {
            "text/plain": [
              "<tf.Tensor: shape=(50,), dtype=float32, numpy=\n",
              "array([0.6645621 , 0.44100678, 0.3528825 , 0.46448255, 0.03366041,\n",
              "       0.68467236, 0.74011743, 0.8724445 , 0.22632635, 0.22319686,\n",
              "       0.3103881 , 0.7223358 , 0.13318717, 0.5480639 , 0.5746088 ,\n",
              "       0.8996835 , 0.00946367, 0.5212307 , 0.6345445 , 0.1993283 ,\n",
              "       0.72942245, 0.54583454, 0.10756552, 0.6767061 , 0.6602763 ,\n",
              "       0.33695042, 0.60141766, 0.21062577, 0.8527372 , 0.44062173,\n",
              "       0.9485276 , 0.23752594, 0.81179297, 0.5263394 , 0.494308  ,\n",
              "       0.21612847, 0.8457197 , 0.8718841 , 0.3083862 , 0.6868038 ,\n",
              "       0.23764038, 0.7817228 , 0.9671384 , 0.06870162, 0.79873943,\n",
              "       0.66028714, 0.5871513 , 0.16461694, 0.7381023 , 0.32054043],\n",
              "      dtype=float32)>"
            ]
          },
          "metadata": {},
          "execution_count": 85
        }
      ]
    },
    {
      "cell_type": "markdown",
      "source": [
        "- `tf.math.argmax()` - Returns the index with the largest value across axes of a tensor.\n",
        "\n",
        "- `tf.math.argmax(\n",
        "    input,\n",
        "    axis=None,\n",
        "    output_type=tf.dtypes.int64,\n",
        "    name=None\n",
        ")`\n",
        "\n",
        "- `tf.argmax()` - This also works similarly"
      ],
      "metadata": {
        "id": "xs8KbrEcksFX"
      }
    },
    {
      "cell_type": "code",
      "source": [
        "# Find the postional maximum\n",
        "tf.math.argmax(F)   #returns index"
      ],
      "metadata": {
        "colab": {
          "base_uri": "https://localhost:8080/"
        },
        "id": "kB7xPN0_kPeG",
        "outputId": "8aa4f489-24c1-4eb1-8409-1eca6803ed6b"
      },
      "execution_count": 89,
      "outputs": [
        {
          "output_type": "execute_result",
          "data": {
            "text/plain": [
              "<tf.Tensor: shape=(), dtype=int64, numpy=42>"
            ]
          },
          "metadata": {},
          "execution_count": 89
        }
      ]
    },
    {
      "cell_type": "code",
      "source": [
        "# Index on our largest value position\n",
        "F[tf.argmax(F)]   #checking the value"
      ],
      "metadata": {
        "colab": {
          "base_uri": "https://localhost:8080/"
        },
        "id": "J6HkvN-uk7is",
        "outputId": "256621c2-6a17-48e1-ae12-08f5fe53bc07"
      },
      "execution_count": 88,
      "outputs": [
        {
          "output_type": "execute_result",
          "data": {
            "text/plain": [
              "<tf.Tensor: shape=(), dtype=float32, numpy=0.9671384>"
            ]
          },
          "metadata": {},
          "execution_count": 88
        }
      ]
    },
    {
      "cell_type": "markdown",
      "source": [
        "- `tf.math.argmin()` - Returns the index with the smallest value across axes of a tensor.\n",
        "\n",
        "- `tf.math.argmin(\n",
        "    input,\n",
        "    axis=None,\n",
        "    output_type=tf.dtypes.int64,\n",
        "    name=None\n",
        ")`\n",
        "\n",
        "- `tf.argmin()` - This also works similarly"
      ],
      "metadata": {
        "id": "UTvqRN4Wl653"
      }
    },
    {
      "cell_type": "code",
      "source": [
        "# Find the postional minimum\n",
        "tf.argmin(F)"
      ],
      "metadata": {
        "colab": {
          "base_uri": "https://localhost:8080/"
        },
        "id": "M6zK4XvtlBmr",
        "outputId": "ca75a650-de2f-4f9c-dcac-0ed3e8799761"
      },
      "execution_count": 90,
      "outputs": [
        {
          "output_type": "execute_result",
          "data": {
            "text/plain": [
              "<tf.Tensor: shape=(), dtype=int64, numpy=16>"
            ]
          },
          "metadata": {},
          "execution_count": 90
        }
      ]
    },
    {
      "cell_type": "code",
      "source": [
        "F[tf.argmin(F)]"
      ],
      "metadata": {
        "colab": {
          "base_uri": "https://localhost:8080/"
        },
        "id": "F6y_tubCmG-U",
        "outputId": "64c3b077-09b5-4323-ca9b-99dd3307da69"
      },
      "execution_count": 91,
      "outputs": [
        {
          "output_type": "execute_result",
          "data": {
            "text/plain": [
              "<tf.Tensor: shape=(), dtype=float32, numpy=0.009463668>"
            ]
          },
          "metadata": {},
          "execution_count": 91
        }
      ]
    },
    {
      "cell_type": "markdown",
      "source": [
        "### Squeezing a tensor (removing all single dimensions)"
      ],
      "metadata": {
        "id": "4h01CaK2mOwP"
      }
    },
    {
      "cell_type": "code",
      "source": [
        "# Create a tensor to get started\n",
        "tf.random.set_seed(42)\n",
        "G = tf.constant(tf.random.uniform(shape=[50]), shape=(1,1,1,1,50))\n",
        "G"
      ],
      "metadata": {
        "colab": {
          "base_uri": "https://localhost:8080/"
        },
        "id": "r0MRmGTZmIp-",
        "outputId": "ec8fced4-f0b0-4a3d-fd8d-6032fd596f9d"
      },
      "execution_count": 92,
      "outputs": [
        {
          "output_type": "execute_result",
          "data": {
            "text/plain": [
              "<tf.Tensor: shape=(1, 1, 1, 1, 50), dtype=float32, numpy=\n",
              "array([[[[[0.6645621 , 0.44100678, 0.3528825 , 0.46448255, 0.03366041,\n",
              "           0.68467236, 0.74011743, 0.8724445 , 0.22632635, 0.22319686,\n",
              "           0.3103881 , 0.7223358 , 0.13318717, 0.5480639 , 0.5746088 ,\n",
              "           0.8996835 , 0.00946367, 0.5212307 , 0.6345445 , 0.1993283 ,\n",
              "           0.72942245, 0.54583454, 0.10756552, 0.6767061 , 0.6602763 ,\n",
              "           0.33695042, 0.60141766, 0.21062577, 0.8527372 , 0.44062173,\n",
              "           0.9485276 , 0.23752594, 0.81179297, 0.5263394 , 0.494308  ,\n",
              "           0.21612847, 0.8457197 , 0.8718841 , 0.3083862 , 0.6868038 ,\n",
              "           0.23764038, 0.7817228 , 0.9671384 , 0.06870162, 0.79873943,\n",
              "           0.66028714, 0.5871513 , 0.16461694, 0.7381023 , 0.32054043]]]]],\n",
              "      dtype=float32)>"
            ]
          },
          "metadata": {},
          "execution_count": 92
        }
      ]
    },
    {
      "cell_type": "code",
      "source": [
        "G.shape"
      ],
      "metadata": {
        "colab": {
          "base_uri": "https://localhost:8080/"
        },
        "id": "AhAVhlDYmg2S",
        "outputId": "f60eebaf-8a2f-430a-9411-1a54b3a46e73"
      },
      "execution_count": 93,
      "outputs": [
        {
          "output_type": "execute_result",
          "data": {
            "text/plain": [
              "TensorShape([1, 1, 1, 1, 50])"
            ]
          },
          "metadata": {},
          "execution_count": 93
        }
      ]
    },
    {
      "cell_type": "markdown",
      "source": [
        "- `tf.squeeze` - Removes dimensions of size 1 from the shape of a tensor.\n",
        "\n",
        "- `tf.squeeze(\n",
        "    input, axis=None, name=None\n",
        ")`"
      ],
      "metadata": {
        "id": "pMM5FrtcmtPf"
      }
    },
    {
      "cell_type": "code",
      "source": [
        "G_squeezed = tf.squeeze(G)\n",
        "G_squeezed"
      ],
      "metadata": {
        "colab": {
          "base_uri": "https://localhost:8080/"
        },
        "id": "ARZDUAx_mk4n",
        "outputId": "521a959a-7e0c-4d1b-ed72-18582152afb4"
      },
      "execution_count": 94,
      "outputs": [
        {
          "output_type": "execute_result",
          "data": {
            "text/plain": [
              "<tf.Tensor: shape=(50,), dtype=float32, numpy=\n",
              "array([0.6645621 , 0.44100678, 0.3528825 , 0.46448255, 0.03366041,\n",
              "       0.68467236, 0.74011743, 0.8724445 , 0.22632635, 0.22319686,\n",
              "       0.3103881 , 0.7223358 , 0.13318717, 0.5480639 , 0.5746088 ,\n",
              "       0.8996835 , 0.00946367, 0.5212307 , 0.6345445 , 0.1993283 ,\n",
              "       0.72942245, 0.54583454, 0.10756552, 0.6767061 , 0.6602763 ,\n",
              "       0.33695042, 0.60141766, 0.21062577, 0.8527372 , 0.44062173,\n",
              "       0.9485276 , 0.23752594, 0.81179297, 0.5263394 , 0.494308  ,\n",
              "       0.21612847, 0.8457197 , 0.8718841 , 0.3083862 , 0.6868038 ,\n",
              "       0.23764038, 0.7817228 , 0.9671384 , 0.06870162, 0.79873943,\n",
              "       0.66028714, 0.5871513 , 0.16461694, 0.7381023 , 0.32054043],\n",
              "      dtype=float32)>"
            ]
          },
          "metadata": {},
          "execution_count": 94
        }
      ]
    },
    {
      "cell_type": "code",
      "source": [
        "G_squeezed.shape"
      ],
      "metadata": {
        "colab": {
          "base_uri": "https://localhost:8080/"
        },
        "id": "1flfqubJnAK6",
        "outputId": "ac4da96b-4a1c-402f-b23d-094cdcde16ec"
      },
      "execution_count": 95,
      "outputs": [
        {
          "output_type": "execute_result",
          "data": {
            "text/plain": [
              "TensorShape([50])"
            ]
          },
          "metadata": {},
          "execution_count": 95
        }
      ]
    },
    {
      "cell_type": "markdown",
      "source": [
        "### One Hot Encoding Tensors\n",
        "\n",
        "- **Definition** - One hot encoding is a technique that we use to represent categorical variables as numerical values in a machine learning model.\n",
        "\n",
        "- **Concept** : Most real-life datasets we encounter during our data science project development have columns of mixed data type. These datasets consist of both categorical as well as numerical columns. However, various Machine Learning models do not work with categorical data and to fit this data into the machine learning model it needs to be converted into numerical data. For example, suppose a dataset has a Gender column with categorical elements like Male and  Female. These labels have no specific order of preference and also since the data is string labels, machine learning models misinterpreted that there is some sort of hierarchy in them.\n",
        "\n",
        "\n",
        "\n",
        "![OHC.JPG](data:image/jpeg;base64,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)\n",
        "\n",
        "- `tf.one_hot()` - Returns a one-hot tensor.\n",
        "- `tf.one_hot(\n",
        "    indices,\n",
        "    depth,\n",
        "    on_value=None,\n",
        "    off_value=None,\n",
        "    axis=None,\n",
        "    dtype=None,\n",
        "    name=None\n",
        ")\n",
        "`"
      ],
      "metadata": {
        "id": "5MwZyV3MnFPp"
      }
    },
    {
      "cell_type": "code",
      "source": [
        "# Create a list of indices\n",
        "some_list = [0, 1, 2, 3] # could be red,green, blue,purple\n",
        "\n",
        "#one hot encode our list of indices\n",
        "tf.one_hot(some_list, depth=4)"
      ],
      "metadata": {
        "colab": {
          "base_uri": "https://localhost:8080/"
        },
        "id": "P11KCukfnEDd",
        "outputId": "9b566f7d-2190-4c17-ab24-d918fe0a4cf4"
      },
      "execution_count": 96,
      "outputs": [
        {
          "output_type": "execute_result",
          "data": {
            "text/plain": [
              "<tf.Tensor: shape=(4, 4), dtype=float32, numpy=\n",
              "array([[1., 0., 0., 0.],\n",
              "       [0., 1., 0., 0.],\n",
              "       [0., 0., 1., 0.],\n",
              "       [0., 0., 0., 1.]], dtype=float32)>"
            ]
          },
          "metadata": {},
          "execution_count": 96
        }
      ]
    },
    {
      "cell_type": "code",
      "source": [
        "# Specify custom values for One Hot Encoding\n",
        "tf.one_hot(some_list, depth=4, on_value='Hello', off_value=\"World\")"
      ],
      "metadata": {
        "colab": {
          "base_uri": "https://localhost:8080/"
        },
        "id": "PfoOK5j_pOMR",
        "outputId": "61ca85d2-8ca8-4a16-89b4-b8cc68efe57e"
      },
      "execution_count": 97,
      "outputs": [
        {
          "output_type": "execute_result",
          "data": {
            "text/plain": [
              "<tf.Tensor: shape=(4, 4), dtype=string, numpy=\n",
              "array([[b'Hello', b'World', b'World', b'World'],\n",
              "       [b'World', b'Hello', b'World', b'World'],\n",
              "       [b'World', b'World', b'Hello', b'World'],\n",
              "       [b'World', b'World', b'World', b'Hello']], dtype=object)>"
            ]
          },
          "metadata": {},
          "execution_count": 97
        }
      ]
    },
    {
      "cell_type": "markdown",
      "source": [
        "### Squaring, Logarithm, Root\n",
        "\n",
        "Its better to use tf.math module when using mathematical functions"
      ],
      "metadata": {
        "id": "VfvvYnHPp_YP"
      }
    },
    {
      "cell_type": "code",
      "source": [
        "# Creating a new tensor\n",
        "H = tf.range(1,10)\n",
        "H"
      ],
      "metadata": {
        "colab": {
          "base_uri": "https://localhost:8080/"
        },
        "id": "fDiZf2oTp-kJ",
        "outputId": "23985de0-a352-4f27-9e44-98d64beaeee7"
      },
      "execution_count": 98,
      "outputs": [
        {
          "output_type": "execute_result",
          "data": {
            "text/plain": [
              "<tf.Tensor: shape=(9,), dtype=int32, numpy=array([1, 2, 3, 4, 5, 6, 7, 8, 9], dtype=int32)>"
            ]
          },
          "metadata": {},
          "execution_count": 98
        }
      ]
    },
    {
      "cell_type": "code",
      "source": [
        "# Squaring it\n",
        "tf.square(H)"
      ],
      "metadata": {
        "colab": {
          "base_uri": "https://localhost:8080/"
        },
        "id": "l1SJFQXHpcix",
        "outputId": "8599ca3f-9069-44d3-e7de-31a0c6644a92"
      },
      "execution_count": 99,
      "outputs": [
        {
          "output_type": "execute_result",
          "data": {
            "text/plain": [
              "<tf.Tensor: shape=(9,), dtype=int32, numpy=array([ 1,  4,  9, 16, 25, 36, 49, 64, 81], dtype=int32)>"
            ]
          },
          "metadata": {},
          "execution_count": 99
        }
      ]
    },
    {
      "cell_type": "code",
      "source": [
        "# Square Root (int32 is not allowed , so we cast it to float32)\n",
        "tf.sqrt(tf.cast(H, dtype=tf.float32))"
      ],
      "metadata": {
        "colab": {
          "base_uri": "https://localhost:8080/"
        },
        "id": "iXJsbE1yqM46",
        "outputId": "bf0f5a06-c1fb-4662-8680-1ff754d67933"
      },
      "execution_count": 100,
      "outputs": [
        {
          "output_type": "execute_result",
          "data": {
            "text/plain": [
              "<tf.Tensor: shape=(9,), dtype=float32, numpy=\n",
              "array([1.       , 1.4142135, 1.7320508, 2.       , 2.236068 , 2.4494898,\n",
              "       2.6457512, 2.828427 , 3.       ], dtype=float32)>"
            ]
          },
          "metadata": {},
          "execution_count": 100
        }
      ]
    },
    {
      "cell_type": "code",
      "source": [
        "# Finding the Logarithm - Computes logarithm element wise (int32 similarly not allowed)\n",
        "tf.math.log(tf.cast(H, dtype=tf.float32))"
      ],
      "metadata": {
        "colab": {
          "base_uri": "https://localhost:8080/"
        },
        "id": "MR40ayZ8qeMb",
        "outputId": "f432cc1b-74c0-4aea-fc98-844c238379e6"
      },
      "execution_count": 101,
      "outputs": [
        {
          "output_type": "execute_result",
          "data": {
            "text/plain": [
              "<tf.Tensor: shape=(9,), dtype=float32, numpy=\n",
              "array([0.       , 0.6931472, 1.0986123, 1.3862944, 1.609438 , 1.7917595,\n",
              "       1.9459102, 2.0794415, 2.1972246], dtype=float32)>"
            ]
          },
          "metadata": {},
          "execution_count": 101
        }
      ]
    },
    {
      "cell_type": "markdown",
      "source": [
        "### Tensors and Numpy"
      ],
      "metadata": {
        "id": "A72Snoyuq83x"
      }
    },
    {
      "cell_type": "code",
      "source": [
        "# Creating  a tensor directly from a NumPy array\n",
        "J = tf.constant(np.array([3.,7.,10.]))\n",
        "J"
      ],
      "metadata": {
        "colab": {
          "base_uri": "https://localhost:8080/"
        },
        "id": "FdOCwanvquts",
        "outputId": "bce99e56-4a75-4f2e-ade3-b43b670a5a17"
      },
      "execution_count": 102,
      "outputs": [
        {
          "output_type": "execute_result",
          "data": {
            "text/plain": [
              "<tf.Tensor: shape=(3,), dtype=float64, numpy=array([ 3.,  7., 10.])>"
            ]
          },
          "metadata": {},
          "execution_count": 102
        }
      ]
    },
    {
      "cell_type": "code",
      "source": [
        "# Convert our tensor back to Numpy Array\n",
        "np.array(J), type(np.array(J))"
      ],
      "metadata": {
        "colab": {
          "base_uri": "https://localhost:8080/"
        },
        "id": "m6YQNxx9sD2F",
        "outputId": "0d844ab2-4293-4261-a9cb-0fdd1d9e891d"
      },
      "execution_count": 103,
      "outputs": [
        {
          "output_type": "execute_result",
          "data": {
            "text/plain": [
              "(array([ 3.,  7., 10.]), numpy.ndarray)"
            ]
          },
          "metadata": {},
          "execution_count": 103
        }
      ]
    },
    {
      "cell_type": "code",
      "source": [
        "# Convert tensor J to a Numpy Array\n",
        "J.numpy(), type(J.numpy())"
      ],
      "metadata": {
        "colab": {
          "base_uri": "https://localhost:8080/"
        },
        "id": "GDwNfln_sMNC",
        "outputId": "884936f2-2cca-40ca-b6a5-9f1628f0cbba"
      },
      "execution_count": 104,
      "outputs": [
        {
          "output_type": "execute_result",
          "data": {
            "text/plain": [
              "(array([ 3.,  7., 10.]), numpy.ndarray)"
            ]
          },
          "metadata": {},
          "execution_count": 104
        }
      ]
    },
    {
      "cell_type": "code",
      "source": [
        "# The default types of each are slightly different\n",
        "numpy_J = tf.constant(np.array([3.,7.,10.]))\n",
        "tensor_J = tf.constant([3.,7.,10.])\n",
        "\n",
        "# Cheking the dataypes\n",
        "numpy_J.dtype, tensor_J.dtype"
      ],
      "metadata": {
        "colab": {
          "base_uri": "https://localhost:8080/"
        },
        "id": "u-eDd2u0sejm",
        "outputId": "332ee43d-c6ad-42d7-9110-d7e3fd7b0e8e"
      },
      "execution_count": 105,
      "outputs": [
        {
          "output_type": "execute_result",
          "data": {
            "text/plain": [
              "(tf.float64, tf.float32)"
            ]
          },
          "metadata": {},
          "execution_count": 105
        }
      ]
    },
    {
      "cell_type": "code",
      "source": [
        ""
      ],
      "metadata": {
        "id": "szD2yGV7s5QQ"
      },
      "execution_count": null,
      "outputs": []
    }
  ]
}